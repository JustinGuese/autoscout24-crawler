{
 "cells": [
  {
   "cell_type": "code",
   "execution_count": 1,
   "metadata": {},
   "outputs": [],
   "source": [
    "import pandas as pd\n",
    "data = pd.read_csv(\"./data/autos/largeDF.csv\")\n",
    "data = data[[\"Modell\",\"Marke\",\"Garantie\",\"country\",\"Zustand\", \"Zylinder\",\"price\"]]\n",
    "data = data.fillna(0)\n",
    "rawdata = data.copy()"
   ]
  },
  {
   "cell_type": "code",
   "execution_count": 2,
   "metadata": {},
   "outputs": [],
   "source": [
    "from sklearn import preprocessing\n",
    "from sklearn.preprocessing import MinMaxScaler\n",
    "def preprocess(data):\n",
    "    obj_df = data.select_dtypes(include=['object']).copy()\n",
    "    num_df = data.select_dtypes(include=['float64']).copy()\n",
    "    obj_df = pd.get_dummies(obj_df)\n",
    "    scaler = MinMaxScaler()\n",
    "    cols = num_df.columns\n",
    "    num_df = scaler.fit_transform(num_df)\n",
    "    num_df = pd.DataFrame(num_df,columns=cols)\n",
    "    data = pd.concat([obj_df,num_df],axis=1)\n",
    "    return data, scaler\n",
    "\n",
    "data,scaler = preprocess(data)\n"
   ]
  },
  {
   "cell_type": "code",
   "execution_count": 3,
   "metadata": {},
   "outputs": [],
   "source": [
    "y = data[\"price\"]\n",
    "data = data.drop([\"price\"],axis=1)"
   ]
  },
  {
   "cell_type": "code",
   "execution_count": 4,
   "metadata": {},
   "outputs": [],
   "source": [
    "from sklearn.model_selection import train_test_split\n",
    "#x_train, x_test, y_train, y_test = train_test_split( data, y, test_size=0.33, random_state=42,shuffle=True)\n",
    "# have to do other split for later\n",
    "\n",
    "splitAt = int(len(data)*0.9)\n",
    "x_train,x_test = data[:splitAt],data[splitAt:]\n",
    "y_train,y_test = y[:splitAt],y[splitAt:]"
   ]
  },
  {
   "cell_type": "code",
   "execution_count": 5,
   "metadata": {},
   "outputs": [],
   "source": [
    "# best mdoel\n",
    "from sklearn.ensemble import RandomForestRegressor\n",
    "\n",
    "model = RandomForestRegressor(criterion= \"mse\", max_depth= None, max_features= \"sqrt\", min_samples_split= 2, n_estimators= 500\n",
    ")\n"
   ]
  },
  {
   "cell_type": "code",
   "execution_count": 6,
   "metadata": {},
   "outputs": [],
   "source": [
    "model.fit(x_train, y_train)\n",
    "scr = model.score(x_test,y_test)\n",
    "pred = model.predict(x_test)"
   ]
  },
  {
   "cell_type": "code",
   "execution_count": 7,
   "metadata": {},
   "outputs": [
    {
     "data": {
      "text/plain": [
       "0.976885835761488"
      ]
     },
     "execution_count": 7,
     "metadata": {},
     "output_type": "execute_result"
    }
   ],
   "source": [
    "scr"
   ]
  },
  {
   "cell_type": "code",
   "execution_count": 8,
   "metadata": {},
   "outputs": [
    {
     "name": "stdout",
     "output_type": "stream",
     "text": [
      "0.01844683132086683\n"
     ]
    }
   ],
   "source": [
    "diffs = []\n",
    "\n",
    "for pds,real in zip(pred,y):\n",
    "    diff = real - pds\n",
    "    diffs.append(diff)\n",
    "    \n",
    "print(diff.mean())"
   ]
  },
  {
   "cell_type": "code",
   "execution_count": 9,
   "metadata": {},
   "outputs": [
    {
     "data": {
      "text/plain": [
       "{'whiskers': [<matplotlib.lines.Line2D at 0x7fa9c556d5e0>,\n",
       "  <matplotlib.lines.Line2D at 0x7fa9c556d940>],\n",
       " 'caps': [<matplotlib.lines.Line2D at 0x7fa9c556dca0>,\n",
       "  <matplotlib.lines.Line2D at 0x7fa9c557a040>],\n",
       " 'boxes': [<matplotlib.lines.Line2D at 0x7fa9c556d280>],\n",
       " 'medians': [<matplotlib.lines.Line2D at 0x7fa9c557a3a0>],\n",
       " 'fliers': [<matplotlib.lines.Line2D at 0x7fa9c557a700>],\n",
       " 'means': []}"
      ]
     },
     "execution_count": 9,
     "metadata": {},
     "output_type": "execute_result"
    },
    {
     "data": {
      "image/png": "[encoded data removed]",
      "text/plain": [
       "<Figure size 432x288 with 1 Axes>"
      ]
     },
     "metadata": {
      "needs_background": "light"
     },
     "output_type": "display_data"
    }
   ],
   "source": [
    "import matplotlib.pyplot as plt\n",
    "\n",
    "plt.boxplot(diffs)"
   ]
  },
  {
   "cell_type": "code",
   "execution_count": 10,
   "metadata": {},
   "outputs": [
    {
     "name": "stdout",
     "output_type": "stream",
     "text": [
      "(array([127, 229, 263, 288, 294, 648, 652]),)\n"
     ]
    }
   ],
   "source": [
    "from scipy import stats\n",
    "import numpy as np\n",
    "\n",
    "z = np.abs(stats.zscore(diffs))\n",
    "threshold = 6\n",
    "goodguesses = np.where(z < 0.1)\n",
    "outliers = np.where(z > threshold)\n",
    "print(outliers)\n",
    "\n",
    "# prepare rawdata\n",
    "rawdata = rawdata[splitAt:]"
   ]
  },
  {
   "cell_type": "code",
   "execution_count": 11,
   "metadata": {},
   "outputs": [
    {
     "data": {
      "text/plain": [
       "{'whiskers': [<matplotlib.lines.Line2D at 0x7fa9c3454820>,\n",
       "  <matplotlib.lines.Line2D at 0x7fa9c3454b80>],\n",
       " 'caps': [<matplotlib.lines.Line2D at 0x7fa9c3454ee0>,\n",
       "  <matplotlib.lines.Line2D at 0x7fa9c3462280>],\n",
       " 'boxes': [<matplotlib.lines.Line2D at 0x7fa9c3454520>],\n",
       " 'medians': [<matplotlib.lines.Line2D at 0x7fa9c34625e0>],\n",
       " 'fliers': [<matplotlib.lines.Line2D at 0x7fa9c3462940>],\n",
       " 'means': []}"
      ]
     },
     "execution_count": 11,
     "metadata": {},
     "output_type": "execute_result"
    },
    {
     "data": {
      "image/png": "[encoded data removed]",
      "text/plain": [
       "<Figure size 432x288 with 1 Axes>"
      ]
     },
     "metadata": {
      "needs_background": "light"
     },
     "output_type": "display_data"
    }
   ],
   "source": [
    "plt.boxplot(z)"
   ]
  },
  {
   "cell_type": "code",
   "execution_count": 12,
   "metadata": {},
   "outputs": [],
   "source": [
    "# get previous price\n",
    "old = data[splitAt:].select_dtypes(include=['float64']).copy()\n",
    "old[\"price\"] = pred\n",
    "old = scaler.inverse_transform(old)\n",
    "old = pd.DataFrame(old,columns=[\"Zylinder\",\"price\"])"
   ]
  },
  {
   "cell_type": "code",
   "execution_count": 13,
   "metadata": {},
   "outputs": [
    {
     "name": "stdout",
     "output_type": "stream",
     "text": [
      "     Zylinder         price\n",
      "0         4.0  33995.000000\n",
      "1         4.0  13282.142369\n",
      "2         4.0   1500.000000\n",
      "3         0.0   8822.682251\n",
      "4         5.0  68890.000000\n",
      "..        ...           ...\n",
      "744       4.0  13980.000000\n",
      "745       8.0  50990.000000\n",
      "746       4.0   4999.000000\n",
      "747       4.0  19841.336532\n",
      "748       0.0  23805.541229\n",
      "\n",
      "[749 rows x 2 columns]\n"
     ]
    }
   ],
   "source": [
    "print(old)"
   ]
  },
  {
   "cell_type": "code",
   "execution_count": 14,
   "metadata": {},
   "outputs": [
    {
     "data": {
      "text/plain": [
       "(749, 749)"
      ]
     },
     "execution_count": 14,
     "metadata": {},
     "output_type": "execute_result"
    }
   ],
   "source": [
    "len(old),len(rawdata)"
   ]
  },
  {
   "cell_type": "code",
   "execution_count": 18,
   "metadata": {},
   "outputs": [],
   "source": [
    "rawdata[\"predicted_price\"] = old[\"price\"].values"
   ]
  },
  {
   "cell_type": "code",
   "execution_count": 19,
   "metadata": {},
   "outputs": [
    {
     "data": {
      "text/html": [
       "<div>\n",
       "<style scoped>\n",
       "    .dataframe tbody tr th:only-of-type {\n",
       "        vertical-align: middle;\n",
       "    }\n",
       "\n",
       "    .dataframe tbody tr th {\n",
       "        vertical-align: top;\n",
       "    }\n",
       "\n",
       "    .dataframe thead th {\n",
       "        text-align: right;\n",
       "    }\n",
       "</style>\n",
       "<table border=\"1\" class=\"dataframe\">\n",
       "  <thead>\n",
       "    <tr style=\"text-align: right;\">\n",
       "      <th></th>\n",
       "      <th>Modell</th>\n",
       "      <th>Marke</th>\n",
       "      <th>Garantie</th>\n",
       "      <th>country</th>\n",
       "      <th>Zustand</th>\n",
       "      <th>Zylinder</th>\n",
       "      <th>price</th>\n",
       "      <th>predicted_price</th>\n",
       "    </tr>\n",
       "  </thead>\n",
       "  <tbody>\n",
       "    <tr>\n",
       "      <th>6861</th>\n",
       "      <td>Golf Variant</td>\n",
       "      <td>Volkswagen</td>\n",
       "      <td>0</td>\n",
       "      <td>Oesterreich</td>\n",
       "      <td>Gebraucht</td>\n",
       "      <td>4.0</td>\n",
       "      <td>10500.0</td>\n",
       "      <td>10953.845895</td>\n",
       "    </tr>\n",
       "    <tr>\n",
       "      <th>6963</th>\n",
       "      <td>2</td>\n",
       "      <td>Mazda</td>\n",
       "      <td>0</td>\n",
       "      <td>Oesterreich</td>\n",
       "      <td>Gebraucht</td>\n",
       "      <td>4.0</td>\n",
       "      <td>1900.0</td>\n",
       "      <td>3034.852739</td>\n",
       "    </tr>\n",
       "    <tr>\n",
       "      <th>6997</th>\n",
       "      <td>Continental</td>\n",
       "      <td>Bentley</td>\n",
       "      <td>0</td>\n",
       "      <td>Deutschland</td>\n",
       "      <td>Neu</td>\n",
       "      <td>12.0</td>\n",
       "      <td>260449.0</td>\n",
       "      <td>260181.890367</td>\n",
       "    </tr>\n",
       "    <tr>\n",
       "      <th>7022</th>\n",
       "      <td>Continental</td>\n",
       "      <td>Bentley</td>\n",
       "      <td>0</td>\n",
       "      <td>Deutschland</td>\n",
       "      <td>Neu</td>\n",
       "      <td>12.0</td>\n",
       "      <td>260449.0</td>\n",
       "      <td>260181.890367</td>\n",
       "    </tr>\n",
       "    <tr>\n",
       "      <th>7028</th>\n",
       "      <td>Continental</td>\n",
       "      <td>Bentley</td>\n",
       "      <td>0</td>\n",
       "      <td>Deutschland</td>\n",
       "      <td>Neu</td>\n",
       "      <td>12.0</td>\n",
       "      <td>259602.0</td>\n",
       "      <td>260181.890367</td>\n",
       "    </tr>\n",
       "    <tr>\n",
       "      <th>7382</th>\n",
       "      <td>Fiesta</td>\n",
       "      <td>Ford</td>\n",
       "      <td>12 Monate</td>\n",
       "      <td>Deutschland</td>\n",
       "      <td>Tipp:Prüfe das Fahrzeug bei der Besichtigung a...</td>\n",
       "      <td>3.0</td>\n",
       "      <td>9980.0</td>\n",
       "      <td>10117.335115</td>\n",
       "    </tr>\n",
       "    <tr>\n",
       "      <th>7386</th>\n",
       "      <td>Fiesta</td>\n",
       "      <td>Ford</td>\n",
       "      <td>12 Monate</td>\n",
       "      <td>Deutschland</td>\n",
       "      <td>Tipp:Prüfe das Fahrzeug bei der Besichtigung a...</td>\n",
       "      <td>4.0</td>\n",
       "      <td>10980.0</td>\n",
       "      <td>9729.875599</td>\n",
       "    </tr>\n",
       "  </tbody>\n",
       "</table>\n",
       "</div>"
      ],
      "text/plain": [
       "            Modell       Marke   Garantie      country  \\\n",
       "6861  Golf Variant  Volkswagen          0  Oesterreich   \n",
       "6963             2       Mazda          0  Oesterreich   \n",
       "6997   Continental     Bentley          0  Deutschland   \n",
       "7022   Continental     Bentley          0  Deutschland   \n",
       "7028   Continental     Bentley          0  Deutschland   \n",
       "7382        Fiesta        Ford  12 Monate  Deutschland   \n",
       "7386        Fiesta        Ford  12 Monate  Deutschland   \n",
       "\n",
       "                                                Zustand  Zylinder     price  \\\n",
       "6861                                          Gebraucht       4.0   10500.0   \n",
       "6963                                          Gebraucht       4.0    1900.0   \n",
       "6997                                                Neu      12.0  260449.0   \n",
       "7022                                                Neu      12.0  260449.0   \n",
       "7028                                                Neu      12.0  259602.0   \n",
       "7382  Tipp:Prüfe das Fahrzeug bei der Besichtigung a...       3.0    9980.0   \n",
       "7386  Tipp:Prüfe das Fahrzeug bei der Besichtigung a...       4.0   10980.0   \n",
       "\n",
       "      predicted_price  \n",
       "6861     10953.845895  \n",
       "6963      3034.852739  \n",
       "6997    260181.890367  \n",
       "7022    260181.890367  \n",
       "7028    260181.890367  \n",
       "7382     10117.335115  \n",
       "7386      9729.875599  "
      ]
     },
     "execution_count": 19,
     "metadata": {},
     "output_type": "execute_result"
    }
   ],
   "source": [
    "rawdata.iloc[outliers]"
   ]
  },
  {
   "cell_type": "code",
   "execution_count": 20,
   "metadata": {},
   "outputs": [
    {
     "data": {
      "text/html": [
       "<div>\n",
       "<style scoped>\n",
       "    .dataframe tbody tr th:only-of-type {\n",
       "        vertical-align: middle;\n",
       "    }\n",
       "\n",
       "    .dataframe tbody tr th {\n",
       "        vertical-align: top;\n",
       "    }\n",
       "\n",
       "    .dataframe thead th {\n",
       "        text-align: right;\n",
       "    }\n",
       "</style>\n",
       "<table border=\"1\" class=\"dataframe\">\n",
       "  <thead>\n",
       "    <tr style=\"text-align: right;\">\n",
       "      <th></th>\n",
       "      <th>Modell</th>\n",
       "      <th>Marke</th>\n",
       "      <th>Garantie</th>\n",
       "      <th>country</th>\n",
       "      <th>Zustand</th>\n",
       "      <th>Zylinder</th>\n",
       "      <th>price</th>\n",
       "      <th>predicted_price</th>\n",
       "    </tr>\n",
       "  </thead>\n",
       "  <tbody>\n",
       "    <tr>\n",
       "      <th>6735</th>\n",
       "      <td>Tiguan</td>\n",
       "      <td>Volkswagen</td>\n",
       "      <td>12 Monate</td>\n",
       "      <td>Deutschland</td>\n",
       "      <td>Tipp:Prüfe das Fahrzeug bei der Besichtigung a...</td>\n",
       "      <td>4.0</td>\n",
       "      <td>11397.0</td>\n",
       "      <td>13282.142369</td>\n",
       "    </tr>\n",
       "    <tr>\n",
       "      <th>6736</th>\n",
       "      <td>Micra</td>\n",
       "      <td>Nissan</td>\n",
       "      <td>0</td>\n",
       "      <td>Deutschland</td>\n",
       "      <td>Gebraucht</td>\n",
       "      <td>4.0</td>\n",
       "      <td>1500.0</td>\n",
       "      <td>1500.000000</td>\n",
       "    </tr>\n",
       "    <tr>\n",
       "      <th>6743</th>\n",
       "      <td>Cayenne</td>\n",
       "      <td>Porsche</td>\n",
       "      <td>0</td>\n",
       "      <td>Deutschland</td>\n",
       "      <td>Gebraucht</td>\n",
       "      <td>6.0</td>\n",
       "      <td>11000.0</td>\n",
       "      <td>11846.942714</td>\n",
       "    </tr>\n",
       "    <tr>\n",
       "      <th>6745</th>\n",
       "      <td>CX-9</td>\n",
       "      <td>Mazda</td>\n",
       "      <td>0</td>\n",
       "      <td>Deutschland</td>\n",
       "      <td>Tipp:Prüfe das Fahrzeug bei der Besichtigung a...</td>\n",
       "      <td>0.0</td>\n",
       "      <td>11500.0</td>\n",
       "      <td>11516.155954</td>\n",
       "    </tr>\n",
       "    <tr>\n",
       "      <th>6754</th>\n",
       "      <td>Fabia</td>\n",
       "      <td>Skoda</td>\n",
       "      <td>0</td>\n",
       "      <td>Oesterreich</td>\n",
       "      <td>Gebraucht</td>\n",
       "      <td>3.0</td>\n",
       "      <td>600.0</td>\n",
       "      <td>670.033717</td>\n",
       "    </tr>\n",
       "    <tr>\n",
       "      <th>...</th>\n",
       "      <td>...</td>\n",
       "      <td>...</td>\n",
       "      <td>...</td>\n",
       "      <td>...</td>\n",
       "      <td>...</td>\n",
       "      <td>...</td>\n",
       "      <td>...</td>\n",
       "      <td>...</td>\n",
       "    </tr>\n",
       "    <tr>\n",
       "      <th>7466</th>\n",
       "      <td>320</td>\n",
       "      <td>BMW</td>\n",
       "      <td>0</td>\n",
       "      <td>Oesterreich</td>\n",
       "      <td>Gebraucht</td>\n",
       "      <td>4.0</td>\n",
       "      <td>9000.0</td>\n",
       "      <td>10529.798281</td>\n",
       "    </tr>\n",
       "    <tr>\n",
       "      <th>7467</th>\n",
       "      <td>A4</td>\n",
       "      <td>Audi</td>\n",
       "      <td>0</td>\n",
       "      <td>Oesterreich</td>\n",
       "      <td>Gebraucht</td>\n",
       "      <td>4.0</td>\n",
       "      <td>3000.0</td>\n",
       "      <td>5271.159636</td>\n",
       "    </tr>\n",
       "    <tr>\n",
       "      <th>7471</th>\n",
       "      <td>Passat Variant</td>\n",
       "      <td>Volkswagen</td>\n",
       "      <td>0</td>\n",
       "      <td>Oesterreich</td>\n",
       "      <td>Gebraucht</td>\n",
       "      <td>4.0</td>\n",
       "      <td>19500.0</td>\n",
       "      <td>9035.113174</td>\n",
       "    </tr>\n",
       "    <tr>\n",
       "      <th>7481</th>\n",
       "      <td>Tiguan</td>\n",
       "      <td>Volkswagen</td>\n",
       "      <td>0</td>\n",
       "      <td>Oesterreich</td>\n",
       "      <td>Gebraucht</td>\n",
       "      <td>4.0</td>\n",
       "      <td>24990.0</td>\n",
       "      <td>19841.336532</td>\n",
       "    </tr>\n",
       "    <tr>\n",
       "      <th>7482</th>\n",
       "      <td>0</td>\n",
       "      <td>0</td>\n",
       "      <td>0</td>\n",
       "      <td>0</td>\n",
       "      <td>0</td>\n",
       "      <td>0.0</td>\n",
       "      <td>0.0</td>\n",
       "      <td>23805.541229</td>\n",
       "    </tr>\n",
       "  </tbody>\n",
       "</table>\n",
       "<p>137 rows × 8 columns</p>\n",
       "</div>"
      ],
      "text/plain": [
       "              Modell       Marke   Garantie      country  \\\n",
       "6735          Tiguan  Volkswagen  12 Monate  Deutschland   \n",
       "6736           Micra      Nissan          0  Deutschland   \n",
       "6743         Cayenne     Porsche          0  Deutschland   \n",
       "6745            CX-9       Mazda          0  Deutschland   \n",
       "6754           Fabia       Skoda          0  Oesterreich   \n",
       "...              ...         ...        ...          ...   \n",
       "7466             320         BMW          0  Oesterreich   \n",
       "7467              A4        Audi          0  Oesterreich   \n",
       "7471  Passat Variant  Volkswagen          0  Oesterreich   \n",
       "7481          Tiguan  Volkswagen          0  Oesterreich   \n",
       "7482               0           0          0            0   \n",
       "\n",
       "                                                Zustand  Zylinder    price  \\\n",
       "6735  Tipp:Prüfe das Fahrzeug bei der Besichtigung a...       4.0  11397.0   \n",
       "6736                                          Gebraucht       4.0   1500.0   \n",
       "6743                                          Gebraucht       6.0  11000.0   \n",
       "6745  Tipp:Prüfe das Fahrzeug bei der Besichtigung a...       0.0  11500.0   \n",
       "6754                                          Gebraucht       3.0    600.0   \n",
       "...                                                 ...       ...      ...   \n",
       "7466                                          Gebraucht       4.0   9000.0   \n",
       "7467                                          Gebraucht       4.0   3000.0   \n",
       "7471                                          Gebraucht       4.0  19500.0   \n",
       "7481                                          Gebraucht       4.0  24990.0   \n",
       "7482                                                  0       0.0      0.0   \n",
       "\n",
       "      predicted_price  \n",
       "6735     13282.142369  \n",
       "6736      1500.000000  \n",
       "6743     11846.942714  \n",
       "6745     11516.155954  \n",
       "6754       670.033717  \n",
       "...               ...  \n",
       "7466     10529.798281  \n",
       "7467      5271.159636  \n",
       "7471      9035.113174  \n",
       "7481     19841.336532  \n",
       "7482     23805.541229  \n",
       "\n",
       "[137 rows x 8 columns]"
      ]
     },
     "execution_count": 20,
     "metadata": {},
     "output_type": "execute_result"
    }
   ],
   "source": [
    "rawdata.iloc[goodguesses]"
   ]
  },
  {
   "cell_type": "code",
   "execution_count": 21,
   "metadata": {},
   "outputs": [
    {
     "data": {
      "text/plain": [
       "(95.78751205610367, -3.183231456205249e-12)"
      ]
     },
     "execution_count": 21,
     "metadata": {},
     "output_type": "execute_result"
    }
   ],
   "source": [
    "diff = rawdata[\"price\"] - rawdata[\"predicted_price\"]\n",
    "diff.mean(),np.median(diff)"
   ]
  },
  {
   "cell_type": "code",
   "execution_count": 22,
   "metadata": {},
   "outputs": [
    {
     "data": {
      "text/plain": [
       "{'whiskers': [<matplotlib.lines.Line2D at 0x7fa9c33ef850>,\n",
       "  <matplotlib.lines.Line2D at 0x7fa9c33efbb0>],\n",
       " 'caps': [<matplotlib.lines.Line2D at 0x7fa9c33eff10>,\n",
       "  <matplotlib.lines.Line2D at 0x7fa9c33fa2b0>],\n",
       " 'boxes': [<matplotlib.lines.Line2D at 0x7fa9c33ef4f0>],\n",
       " 'medians': [<matplotlib.lines.Line2D at 0x7fa9c33fa610>],\n",
       " 'fliers': [<matplotlib.lines.Line2D at 0x7fa9c33fa970>],\n",
       " 'means': []}"
      ]
     },
     "execution_count": 22,
     "metadata": {},
     "output_type": "execute_result"
    },
    {
     "data": {
      "image/png": "[encoded data removed]",
      "text/plain": [
       "<Figure size 432x288 with 1 Axes>"
      ]
     },
     "metadata": {
      "needs_background": "light"
     },
     "output_type": "display_data"
    }
   ],
   "source": [
    "plt.boxplot(diff)"
   ]
  }
 ],
 "metadata": {
  "kernelspec": {
   "display_name": "Python 3",
   "language": "python",
   "name": "python3"
  },
  "language_info": {
   "codemirror_mode": {
    "name": "ipython",
    "version": 3
   },
   "file_extension": ".py",
   "mimetype": "text/x-python",
   "name": "python",
   "nbconvert_exporter": "python",
   "pygments_lexer": "ipython3",
   "version": "3.8.5"
  }
 },
 "nbformat": 4,
 "nbformat_minor": 4
}
