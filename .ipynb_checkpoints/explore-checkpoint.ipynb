{
 "cells": [
  {
   "cell_type": "code",
   "execution_count": 82,
   "metadata": {},
   "outputs": [],
   "source": [
    "import pandas as pd"
   ]
  },
  {
   "cell_type": "code",
   "execution_count": 83,
   "metadata": {},
   "outputs": [],
   "source": [
    "#data = pd.read_csv(\"./data/autos/2020-10-19_19_34_23_271715.csv\",delimiter=\";\")\n",
    "data = pd.read_csv(\"./data/autos/largeDF.csv\")"
   ]
  },
  {
   "cell_type": "code",
   "execution_count": 84,
   "metadata": {},
   "outputs": [
    {
     "data": {
      "text/html": [
       "<div>\n",
       "<style scoped>\n",
       "    .dataframe tbody tr th:only-of-type {\n",
       "        vertical-align: middle;\n",
       "    }\n",
       "\n",
       "    .dataframe tbody tr th {\n",
       "        vertical-align: top;\n",
       "    }\n",
       "\n",
       "    .dataframe thead th {\n",
       "        text-align: right;\n",
       "    }\n",
       "</style>\n",
       "<table border=\"1\" class=\"dataframe\">\n",
       "  <thead>\n",
       "    <tr style=\"text-align: right;\">\n",
       "      <th></th>\n",
       "      <th>Unnamed: 0</th>\n",
       "      <th>url</th>\n",
       "      <th>country</th>\n",
       "      <th>date</th>\n",
       "      <th>Zustand</th>\n",
       "      <th>Garantie</th>\n",
       "      <th>Marke</th>\n",
       "      <th>Modell</th>\n",
       "      <th>Angebotsnummer</th>\n",
       "      <th>Außenfarbe</th>\n",
       "      <th>...</th>\n",
       "      <th>Kraftstoff</th>\n",
       "      <th>Schadstoffklasse</th>\n",
       "      <th>haendler</th>\n",
       "      <th>privat</th>\n",
       "      <th>ort</th>\n",
       "      <th>price</th>\n",
       "      <th>ausstattung_liste</th>\n",
       "      <th>Erstzulassung</th>\n",
       "      <th>Zylinder</th>\n",
       "      <th>Leergewicht</th>\n",
       "    </tr>\n",
       "  </thead>\n",
       "  <tbody>\n",
       "    <tr>\n",
       "      <th>0</th>\n",
       "      <td>1</td>\n",
       "      <td>/angebote/smart-forfour-66-kw-turbo-klima-sitz...</td>\n",
       "      <td>Deutschland</td>\n",
       "      <td>2020-10-19 19:42:35.081496</td>\n",
       "      <td>Tipp:Prüfe das Fahrzeug bei der Besichtigung a...</td>\n",
       "      <td>NaN</td>\n",
       "      <td>smart</td>\n",
       "      <td>forFour</td>\n",
       "      <td>U124508</td>\n",
       "      <td>Rot</td>\n",
       "      <td>...</td>\n",
       "      <td>Benzin</td>\n",
       "      <td>Euro 6</td>\n",
       "      <td>True</td>\n",
       "      <td>False</td>\n",
       "      <td>73730 Esslingen</td>\n",
       "      <td>9900.0</td>\n",
       "      <td>['', 'ABS', 'Alufelgen', 'Beifahrerairbag', 'B...</td>\n",
       "      <td>2017.0</td>\n",
       "      <td>3.0</td>\n",
       "      <td>995 kg</td>\n",
       "    </tr>\n",
       "    <tr>\n",
       "      <th>1</th>\n",
       "      <td>2</td>\n",
       "      <td>/angebote/smart-forfour-electric-drive-klima-s...</td>\n",
       "      <td>Deutschland</td>\n",
       "      <td>2020-10-19 19:42:35.102635</td>\n",
       "      <td>Tipp:Prüfe das Fahrzeug bei der Besichtigung a...</td>\n",
       "      <td>NaN</td>\n",
       "      <td>smart</td>\n",
       "      <td>forFour</td>\n",
       "      <td>U123630</td>\n",
       "      <td>Schwarz</td>\n",
       "      <td>...</td>\n",
       "      <td>Elektro</td>\n",
       "      <td>NaN</td>\n",
       "      <td>True</td>\n",
       "      <td>False</td>\n",
       "      <td>73730 Esslingen</td>\n",
       "      <td>14900.0</td>\n",
       "      <td>['', 'ABS', 'Alufelgen', 'Beifahrerairbag', 'B...</td>\n",
       "      <td>2018.0</td>\n",
       "      <td>NaN</td>\n",
       "      <td>1.200 kg</td>\n",
       "    </tr>\n",
       "    <tr>\n",
       "      <th>2</th>\n",
       "      <td>1</td>\n",
       "      <td>/angebote/opel-meriva-1-6-110-jahre-klima-radi...</td>\n",
       "      <td>Deutschland</td>\n",
       "      <td>2020-10-19 20:39:57.890414</td>\n",
       "      <td>Tipp:Prüfe das Fahrzeug bei der Besichtigung a...</td>\n",
       "      <td>NaN</td>\n",
       "      <td>Opel</td>\n",
       "      <td>Meriva</td>\n",
       "      <td>HI012767</td>\n",
       "      <td>Blau</td>\n",
       "      <td>...</td>\n",
       "      <td>Benzin</td>\n",
       "      <td>NaN</td>\n",
       "      <td>True</td>\n",
       "      <td>False</td>\n",
       "      <td>31135 Hildesheim</td>\n",
       "      <td>4490.0</td>\n",
       "      <td>['', 'ABS', 'Armlehne', 'Beifahrerairbag', 'Bo...</td>\n",
       "      <td>2009.0</td>\n",
       "      <td>NaN</td>\n",
       "      <td>1.330 kg</td>\n",
       "    </tr>\n",
       "    <tr>\n",
       "      <th>3</th>\n",
       "      <td>2</td>\n",
       "      <td>/angebote/renault-clio-collection-benzin-a6878...</td>\n",
       "      <td>Deutschland</td>\n",
       "      <td>2020-10-19 20:39:57.896422</td>\n",
       "      <td>Tipp:Prüfe das Fahrzeug bei der Besichtigung a...</td>\n",
       "      <td>NaN</td>\n",
       "      <td>Renault</td>\n",
       "      <td>Clio</td>\n",
       "      <td>0726371</td>\n",
       "      <td>Nicht angegeben</td>\n",
       "      <td>...</td>\n",
       "      <td>Benzin</td>\n",
       "      <td>Euro 5</td>\n",
       "      <td>True</td>\n",
       "      <td>False</td>\n",
       "      <td>37081 Göttingen</td>\n",
       "      <td>4990.0</td>\n",
       "      <td>['', 'ABS', 'Beifahrerairbag', 'Bordcomputer',...</td>\n",
       "      <td>2014.0</td>\n",
       "      <td>NaN</td>\n",
       "      <td>1.055 kg</td>\n",
       "    </tr>\n",
       "    <tr>\n",
       "      <th>4</th>\n",
       "      <td>3</td>\n",
       "      <td>/angebote/volkswagen-touran-freestyle-lueckenl...</td>\n",
       "      <td>Deutschland</td>\n",
       "      <td>2020-10-19 20:39:57.920603</td>\n",
       "      <td>Tipp:Prüfe das Fahrzeug bei der Besichtigung a...</td>\n",
       "      <td>NaN</td>\n",
       "      <td>Volkswagen</td>\n",
       "      <td>Touran</td>\n",
       "      <td>NaN</td>\n",
       "      <td>Schwarz</td>\n",
       "      <td>...</td>\n",
       "      <td>Diesel</td>\n",
       "      <td>Euro 4</td>\n",
       "      <td>True</td>\n",
       "      <td>False</td>\n",
       "      <td>80689 München</td>\n",
       "      <td>4600.0</td>\n",
       "      <td>['', 'ABS', 'Alufelgen', 'Armlehne', 'Beifahre...</td>\n",
       "      <td>2010.0</td>\n",
       "      <td>NaN</td>\n",
       "      <td>NaN</td>\n",
       "    </tr>\n",
       "  </tbody>\n",
       "</table>\n",
       "<p>5 rows × 30 columns</p>\n",
       "</div>"
      ],
      "text/plain": [
       "   Unnamed: 0                                                url      country  \\\n",
       "0           1  /angebote/smart-forfour-66-kw-turbo-klima-sitz...  Deutschland   \n",
       "1           2  /angebote/smart-forfour-electric-drive-klima-s...  Deutschland   \n",
       "2           1  /angebote/opel-meriva-1-6-110-jahre-klima-radi...  Deutschland   \n",
       "3           2  /angebote/renault-clio-collection-benzin-a6878...  Deutschland   \n",
       "4           3  /angebote/volkswagen-touran-freestyle-lueckenl...  Deutschland   \n",
       "\n",
       "                         date  \\\n",
       "0  2020-10-19 19:42:35.081496   \n",
       "1  2020-10-19 19:42:35.102635   \n",
       "2  2020-10-19 20:39:57.890414   \n",
       "3  2020-10-19 20:39:57.896422   \n",
       "4  2020-10-19 20:39:57.920603   \n",
       "\n",
       "                                             Zustand Garantie       Marke  \\\n",
       "0  Tipp:Prüfe das Fahrzeug bei der Besichtigung a...      NaN       smart   \n",
       "1  Tipp:Prüfe das Fahrzeug bei der Besichtigung a...      NaN       smart   \n",
       "2  Tipp:Prüfe das Fahrzeug bei der Besichtigung a...      NaN        Opel   \n",
       "3  Tipp:Prüfe das Fahrzeug bei der Besichtigung a...      NaN     Renault   \n",
       "4  Tipp:Prüfe das Fahrzeug bei der Besichtigung a...      NaN  Volkswagen   \n",
       "\n",
       "    Modell Angebotsnummer       Außenfarbe  ... Kraftstoff Schadstoffklasse  \\\n",
       "0  forFour        U124508              Rot  ...     Benzin           Euro 6   \n",
       "1  forFour        U123630          Schwarz  ...    Elektro              NaN   \n",
       "2   Meriva       HI012767             Blau  ...     Benzin              NaN   \n",
       "3     Clio        0726371  Nicht angegeben  ...     Benzin           Euro 5   \n",
       "4   Touran            NaN          Schwarz  ...     Diesel           Euro 4   \n",
       "\n",
       "  haendler privat               ort    price  \\\n",
       "0     True  False   73730 Esslingen   9900.0   \n",
       "1     True  False   73730 Esslingen  14900.0   \n",
       "2     True  False  31135 Hildesheim   4490.0   \n",
       "3     True  False   37081 Göttingen   4990.0   \n",
       "4     True  False     80689 München   4600.0   \n",
       "\n",
       "                                   ausstattung_liste Erstzulassung  Zylinder  \\\n",
       "0  ['', 'ABS', 'Alufelgen', 'Beifahrerairbag', 'B...        2017.0       3.0   \n",
       "1  ['', 'ABS', 'Alufelgen', 'Beifahrerairbag', 'B...        2018.0       NaN   \n",
       "2  ['', 'ABS', 'Armlehne', 'Beifahrerairbag', 'Bo...        2009.0       NaN   \n",
       "3  ['', 'ABS', 'Beifahrerairbag', 'Bordcomputer',...        2014.0       NaN   \n",
       "4  ['', 'ABS', 'Alufelgen', 'Armlehne', 'Beifahre...        2010.0       NaN   \n",
       "\n",
       "  Leergewicht  \n",
       "0      995 kg  \n",
       "1    1.200 kg  \n",
       "2    1.330 kg  \n",
       "3    1.055 kg  \n",
       "4         NaN  \n",
       "\n",
       "[5 rows x 30 columns]"
      ]
     },
     "execution_count": 84,
     "metadata": {},
     "output_type": "execute_result"
    }
   ],
   "source": [
    "data.head()"
   ]
  },
  {
   "cell_type": "code",
   "execution_count": 85,
   "metadata": {},
   "outputs": [
    {
     "data": {
      "text/plain": [
       "Index(['Unnamed: 0', 'url', 'country', 'date', 'Zustand', 'Garantie', 'Marke',\n",
       "       'Modell', 'Angebotsnummer', 'Außenfarbe', 'Lackierung',\n",
       "       'Farbe laut Hersteller', 'Innenausstattung', 'Karosserieform',\n",
       "       'Anzahl Türen', 'Sitzplätze', 'Schlüsselnummer', 'Getriebeart', 'Gänge',\n",
       "       'Hubraum', 'Kraftstoff', 'Schadstoffklasse', 'haendler', 'privat',\n",
       "       'ort', 'price', 'ausstattung_liste', 'Erstzulassung', 'Zylinder',\n",
       "       'Leergewicht'],\n",
       "      dtype='object')"
      ]
     },
     "execution_count": 85,
     "metadata": {},
     "output_type": "execute_result"
    }
   ],
   "source": [
    "data.columns"
   ]
  },
  {
   "cell_type": "code",
   "execution_count": 86,
   "metadata": {},
   "outputs": [],
   "source": [
    "data = data.drop(['Unnamed: 0', 'url','date',\"Schlüsselnummer\",\"Angebotsnummer\",\"ausstattung_liste\"],axis=1)"
   ]
  },
  {
   "cell_type": "code",
   "execution_count": 88,
   "metadata": {},
   "outputs": [],
   "source": [
    "data = data[[\"Modell\",\"Marke\",\"Garantie\",\"country\",\"Zustand\", \"Zylinder\",\"price\"]]"
   ]
  },
  {
   "cell_type": "code",
   "execution_count": 89,
   "metadata": {},
   "outputs": [],
   "source": [
    "data = data.fillna(0)"
   ]
  },
  {
   "cell_type": "code",
   "execution_count": 90,
   "metadata": {},
   "outputs": [
    {
     "data": {
      "text/html": [
       "<div>\n",
       "<style scoped>\n",
       "    .dataframe tbody tr th:only-of-type {\n",
       "        vertical-align: middle;\n",
       "    }\n",
       "\n",
       "    .dataframe tbody tr th {\n",
       "        vertical-align: top;\n",
       "    }\n",
       "\n",
       "    .dataframe thead th {\n",
       "        text-align: right;\n",
       "    }\n",
       "</style>\n",
       "<table border=\"1\" class=\"dataframe\">\n",
       "  <thead>\n",
       "    <tr style=\"text-align: right;\">\n",
       "      <th></th>\n",
       "      <th>Zylinder</th>\n",
       "    </tr>\n",
       "  </thead>\n",
       "  <tbody>\n",
       "    <tr>\n",
       "      <th>count</th>\n",
       "      <td>7483.000000</td>\n",
       "    </tr>\n",
       "    <tr>\n",
       "      <th>mean</th>\n",
       "      <td>2.702927</td>\n",
       "    </tr>\n",
       "    <tr>\n",
       "      <th>std</th>\n",
       "      <td>2.458765</td>\n",
       "    </tr>\n",
       "    <tr>\n",
       "      <th>min</th>\n",
       "      <td>0.000000</td>\n",
       "    </tr>\n",
       "    <tr>\n",
       "      <th>25%</th>\n",
       "      <td>0.000000</td>\n",
       "    </tr>\n",
       "    <tr>\n",
       "      <th>50%</th>\n",
       "      <td>4.000000</td>\n",
       "    </tr>\n",
       "    <tr>\n",
       "      <th>75%</th>\n",
       "      <td>4.000000</td>\n",
       "    </tr>\n",
       "    <tr>\n",
       "      <th>max</th>\n",
       "      <td>12.000000</td>\n",
       "    </tr>\n",
       "  </tbody>\n",
       "</table>\n",
       "</div>"
      ],
      "text/plain": [
       "          Zylinder\n",
       "count  7483.000000\n",
       "mean      2.702927\n",
       "std       2.458765\n",
       "min       0.000000\n",
       "25%       0.000000\n",
       "50%       4.000000\n",
       "75%       4.000000\n",
       "max      12.000000"
      ]
     },
     "execution_count": 90,
     "metadata": {},
     "output_type": "execute_result"
    }
   ],
   "source": [
    "data.describe()"
   ]
  },
  {
   "cell_type": "code",
   "execution_count": 91,
   "metadata": {},
   "outputs": [
    {
     "name": "stdout",
     "output_type": "stream",
     "text": [
      "<class 'pandas.core.frame.DataFrame'>\n",
      "RangeIndex: 7483 entries, 0 to 7482\n",
      "Data columns (total 6 columns):\n",
      " #   Column    Non-Null Count  Dtype  \n",
      "---  ------    --------------  -----  \n",
      " 0   Modell    7483 non-null   object \n",
      " 1   Marke     7483 non-null   object \n",
      " 2   Garantie  7483 non-null   object \n",
      " 3   country   7483 non-null   object \n",
      " 4   Zustand   7483 non-null   object \n",
      " 5   Zylinder  7483 non-null   float64\n",
      "dtypes: float64(1), object(5)\n",
      "memory usage: 350.9+ KB\n"
     ]
    }
   ],
   "source": [
    "data.info()"
   ]
  },
  {
   "cell_type": "code",
   "execution_count": 92,
   "metadata": {},
   "outputs": [
    {
     "name": "stdout",
     "output_type": "stream",
     "text": [
      "prob with:  Modell\n",
      "prob with:  Garantie\n"
     ]
    }
   ],
   "source": [
    "import numpy as np\n",
    "probs = []\n",
    "for col in data.columns:\n",
    "    # drop all that have many values\n",
    "    try:\n",
    "        if len(np.unique(data[col])) > 50:\n",
    "            print(col)\n",
    "    except:\n",
    "        print(\"prob with: \",col)\n",
    "        probs.append(col)\n",
    "        "
   ]
  },
  {
   "cell_type": "code",
   "execution_count": 93,
   "metadata": {},
   "outputs": [],
   "source": [
    "from sklearn import preprocessing\n",
    "from sklearn.preprocessing import MinMaxScaler\n"
   ]
  },
  {
   "cell_type": "code",
   "execution_count": 94,
   "metadata": {},
   "outputs": [
    {
     "name": "stdout",
     "output_type": "stream",
     "text": [
      "   Modell_0  Modell_0  Modell_108  Modell_116  Modell_118  Modell_120  \\\n",
      "0         0         0           0           0           0           0   \n",
      "1         0         0           0           0           0           0   \n",
      "2         0         0           0           0           0           0   \n",
      "3         0         0           0           0           0           0   \n",
      "4         0         0           0           0           0           0   \n",
      "\n",
      "   Modell_2  Modell_2008  Modell_206  Modell_207  ...  country_0  \\\n",
      "0         0            0           0           0  ...          0   \n",
      "1         0            0           0           0  ...          0   \n",
      "2         0            0           0           0  ...          0   \n",
      "3         0            0           0           0  ...          0   \n",
      "4         0            0           0           0  ...          0   \n",
      "\n",
      "   country_Deutschland  country_Oesterreich  Zustand_0  Zustand_Gebraucht  \\\n",
      "0                    1                    0          0                  0   \n",
      "1                    1                    0          0                  0   \n",
      "2                    1                    0          0                  0   \n",
      "3                    1                    0          0                  0   \n",
      "4                    1                    0          0                  0   \n",
      "\n",
      "   Zustand_Neu  Zustand_Tageszulassung  \\\n",
      "0            0                       0   \n",
      "1            0                       0   \n",
      "2            0                       0   \n",
      "3            0                       0   \n",
      "4            0                       0   \n",
      "\n",
      "   Zustand_Tipp:Prüfe das Fahrzeug bei der Besichtigung auf Mängel. Generell gehen wir bei allen Angeboten von einem guten Fahrzeug-Zustand aus.  \\\n",
      "0                                                  1                                                                                               \n",
      "1                                                  1                                                                                               \n",
      "2                                                  1                                                                                               \n",
      "3                                                  1                                                                                               \n",
      "4                                                  1                                                                                               \n",
      "\n",
      "   Zustand_Vorführfahrzeug  Zylinder  \n",
      "0                        0      0.25  \n",
      "1                        0      0.00  \n",
      "2                        0      0.00  \n",
      "3                        0      0.00  \n",
      "4                        0      0.00  \n",
      "\n",
      "[5 rows x 347 columns]\n"
     ]
    }
   ],
   "source": [
    "obj_df = data.select_dtypes(include=['object']).copy()\n",
    "num_df = data.select_dtypes(include=['float64']).copy()\n",
    "obj_df = pd.get_dummies(obj_df)\n",
    "obj_df.head()\n",
    "\n",
    "def preprocess(data):\n",
    "    obj_df = data.select_dtypes(include=['object']).copy()\n",
    "    num_df = data.select_dtypes(include=['float64']).copy()\n",
    "    obj_df = pd.get_dummies(obj_df)\n",
    "    scaler = MinMaxScaler()\n",
    "    cols = num_df.columns\n",
    "    num_df = scaler.fit_transform(num_df)\n",
    "    num_df = pd.DataFrame(num_df,columns=cols)\n",
    "    data = pd.concat([obj_df,num_df],axis=1)\n",
    "    return data, scaler\n",
    "\n",
    "data,scaler = preprocess(data)\n",
    "print(data.head())"
   ]
  },
  {
   "cell_type": "code",
   "execution_count": 95,
   "metadata": {},
   "outputs": [
    {
     "name": "stdout",
     "output_type": "stream",
     "text": [
      "Zustand_Tipp:Prüfe das Fahrzeug bei der Besichtigung auf Mängel. Generell gehen wir bei allen Angeboten von einem guten Fahrzeug-Zustand aus.\n"
     ]
    }
   ],
   "source": [
    "for col in obj_df.columns:\n",
    "    if len(col) > 30:\n",
    "        print(col)"
   ]
  },
  {
   "cell_type": "code",
   "execution_count": null,
   "metadata": {},
   "outputs": [],
   "source": []
  },
  {
   "cell_type": "code",
   "execution_count": null,
   "metadata": {},
   "outputs": [],
   "source": []
  },
  {
   "cell_type": "markdown",
   "metadata": {},
   "source": [
    "# let the ml start"
   ]
  },
  {
   "cell_type": "code",
   "execution_count": 96,
   "metadata": {},
   "outputs": [
    {
     "ename": "KeyError",
     "evalue": "'price'",
     "output_type": "error",
     "traceback": [
      "\u001b[0;31m---------------------------------------------------------------------------\u001b[0m",
      "\u001b[0;31mKeyError\u001b[0m                                  Traceback (most recent call last)",
      "\u001b[0;32m~/miniconda3/envs/autoscout/lib/python3.8/site-packages/pandas/core/indexes/base.py\u001b[0m in \u001b[0;36mget_loc\u001b[0;34m(self, key, method, tolerance)\u001b[0m\n\u001b[1;32m   2894\u001b[0m             \u001b[0;32mtry\u001b[0m\u001b[0;34m:\u001b[0m\u001b[0;34m\u001b[0m\u001b[0;34m\u001b[0m\u001b[0m\n\u001b[0;32m-> 2895\u001b[0;31m                 \u001b[0;32mreturn\u001b[0m \u001b[0mself\u001b[0m\u001b[0;34m.\u001b[0m\u001b[0m_engine\u001b[0m\u001b[0;34m.\u001b[0m\u001b[0mget_loc\u001b[0m\u001b[0;34m(\u001b[0m\u001b[0mcasted_key\u001b[0m\u001b[0;34m)\u001b[0m\u001b[0;34m\u001b[0m\u001b[0;34m\u001b[0m\u001b[0m\n\u001b[0m\u001b[1;32m   2896\u001b[0m             \u001b[0;32mexcept\u001b[0m \u001b[0mKeyError\u001b[0m \u001b[0;32mas\u001b[0m \u001b[0merr\u001b[0m\u001b[0;34m:\u001b[0m\u001b[0;34m\u001b[0m\u001b[0;34m\u001b[0m\u001b[0m\n",
      "\u001b[0;32mpandas/_libs/index.pyx\u001b[0m in \u001b[0;36mpandas._libs.index.IndexEngine.get_loc\u001b[0;34m()\u001b[0m\n",
      "\u001b[0;32mpandas/_libs/index.pyx\u001b[0m in \u001b[0;36mpandas._libs.index.IndexEngine.get_loc\u001b[0;34m()\u001b[0m\n",
      "\u001b[0;32mpandas/_libs/index.pyx\u001b[0m in \u001b[0;36mpandas._libs.index.IndexEngine._get_loc_duplicates\u001b[0;34m()\u001b[0m\n",
      "\u001b[0;32mpandas/_libs/index.pyx\u001b[0m in \u001b[0;36mpandas._libs.index.IndexEngine._maybe_get_bool_indexer\u001b[0;34m()\u001b[0m\n",
      "\u001b[0;32mpandas/_libs/index.pyx\u001b[0m in \u001b[0;36mpandas._libs.index.IndexEngine._unpack_bool_indexer\u001b[0;34m()\u001b[0m\n",
      "\u001b[0;31mKeyError\u001b[0m: 'price'",
      "\nThe above exception was the direct cause of the following exception:\n",
      "\u001b[0;31mKeyError\u001b[0m                                  Traceback (most recent call last)",
      "\u001b[0;32m<ipython-input-96-72bd743c3244>\u001b[0m in \u001b[0;36m<module>\u001b[0;34m\u001b[0m\n\u001b[0;32m----> 1\u001b[0;31m \u001b[0my\u001b[0m \u001b[0;34m=\u001b[0m \u001b[0mdata\u001b[0m\u001b[0;34m[\u001b[0m\u001b[0;34m\"price\"\u001b[0m\u001b[0;34m]\u001b[0m\u001b[0;34m\u001b[0m\u001b[0;34m\u001b[0m\u001b[0m\n\u001b[0m\u001b[1;32m      2\u001b[0m \u001b[0mdata\u001b[0m \u001b[0;34m=\u001b[0m \u001b[0mdata\u001b[0m\u001b[0;34m.\u001b[0m\u001b[0mdrop\u001b[0m\u001b[0;34m(\u001b[0m\u001b[0;34m[\u001b[0m\u001b[0;34m\"price\"\u001b[0m\u001b[0;34m]\u001b[0m\u001b[0;34m,\u001b[0m\u001b[0maxis\u001b[0m\u001b[0;34m=\u001b[0m\u001b[0;36m1\u001b[0m\u001b[0;34m)\u001b[0m\u001b[0;34m\u001b[0m\u001b[0;34m\u001b[0m\u001b[0m\n",
      "\u001b[0;32m~/miniconda3/envs/autoscout/lib/python3.8/site-packages/pandas/core/frame.py\u001b[0m in \u001b[0;36m__getitem__\u001b[0;34m(self, key)\u001b[0m\n\u001b[1;32m   2900\u001b[0m             \u001b[0;32mif\u001b[0m \u001b[0mself\u001b[0m\u001b[0;34m.\u001b[0m\u001b[0mcolumns\u001b[0m\u001b[0;34m.\u001b[0m\u001b[0mnlevels\u001b[0m \u001b[0;34m>\u001b[0m \u001b[0;36m1\u001b[0m\u001b[0;34m:\u001b[0m\u001b[0;34m\u001b[0m\u001b[0;34m\u001b[0m\u001b[0m\n\u001b[1;32m   2901\u001b[0m                 \u001b[0;32mreturn\u001b[0m \u001b[0mself\u001b[0m\u001b[0;34m.\u001b[0m\u001b[0m_getitem_multilevel\u001b[0m\u001b[0;34m(\u001b[0m\u001b[0mkey\u001b[0m\u001b[0;34m)\u001b[0m\u001b[0;34m\u001b[0m\u001b[0;34m\u001b[0m\u001b[0m\n\u001b[0;32m-> 2902\u001b[0;31m             \u001b[0mindexer\u001b[0m \u001b[0;34m=\u001b[0m \u001b[0mself\u001b[0m\u001b[0;34m.\u001b[0m\u001b[0mcolumns\u001b[0m\u001b[0;34m.\u001b[0m\u001b[0mget_loc\u001b[0m\u001b[0;34m(\u001b[0m\u001b[0mkey\u001b[0m\u001b[0;34m)\u001b[0m\u001b[0;34m\u001b[0m\u001b[0;34m\u001b[0m\u001b[0m\n\u001b[0m\u001b[1;32m   2903\u001b[0m             \u001b[0;32mif\u001b[0m \u001b[0mis_integer\u001b[0m\u001b[0;34m(\u001b[0m\u001b[0mindexer\u001b[0m\u001b[0;34m)\u001b[0m\u001b[0;34m:\u001b[0m\u001b[0;34m\u001b[0m\u001b[0;34m\u001b[0m\u001b[0m\n\u001b[1;32m   2904\u001b[0m                 \u001b[0mindexer\u001b[0m \u001b[0;34m=\u001b[0m \u001b[0;34m[\u001b[0m\u001b[0mindexer\u001b[0m\u001b[0;34m]\u001b[0m\u001b[0;34m\u001b[0m\u001b[0;34m\u001b[0m\u001b[0m\n",
      "\u001b[0;32m~/miniconda3/envs/autoscout/lib/python3.8/site-packages/pandas/core/indexes/base.py\u001b[0m in \u001b[0;36mget_loc\u001b[0;34m(self, key, method, tolerance)\u001b[0m\n\u001b[1;32m   2895\u001b[0m                 \u001b[0;32mreturn\u001b[0m \u001b[0mself\u001b[0m\u001b[0;34m.\u001b[0m\u001b[0m_engine\u001b[0m\u001b[0;34m.\u001b[0m\u001b[0mget_loc\u001b[0m\u001b[0;34m(\u001b[0m\u001b[0mcasted_key\u001b[0m\u001b[0;34m)\u001b[0m\u001b[0;34m\u001b[0m\u001b[0;34m\u001b[0m\u001b[0m\n\u001b[1;32m   2896\u001b[0m             \u001b[0;32mexcept\u001b[0m \u001b[0mKeyError\u001b[0m \u001b[0;32mas\u001b[0m \u001b[0merr\u001b[0m\u001b[0;34m:\u001b[0m\u001b[0;34m\u001b[0m\u001b[0;34m\u001b[0m\u001b[0m\n\u001b[0;32m-> 2897\u001b[0;31m                 \u001b[0;32mraise\u001b[0m \u001b[0mKeyError\u001b[0m\u001b[0;34m(\u001b[0m\u001b[0mkey\u001b[0m\u001b[0;34m)\u001b[0m \u001b[0;32mfrom\u001b[0m \u001b[0merr\u001b[0m\u001b[0;34m\u001b[0m\u001b[0;34m\u001b[0m\u001b[0m\n\u001b[0m\u001b[1;32m   2898\u001b[0m \u001b[0;34m\u001b[0m\u001b[0m\n\u001b[1;32m   2899\u001b[0m         \u001b[0;32mif\u001b[0m \u001b[0mtolerance\u001b[0m \u001b[0;32mis\u001b[0m \u001b[0;32mnot\u001b[0m \u001b[0;32mNone\u001b[0m\u001b[0;34m:\u001b[0m\u001b[0;34m\u001b[0m\u001b[0;34m\u001b[0m\u001b[0m\n",
      "\u001b[0;31mKeyError\u001b[0m: 'price'"
     ]
    }
   ],
   "source": [
    "y = data[\"price\"]\n",
    "data = data.drop([\"price\"],axis=1)"
   ]
  },
  {
   "cell_type": "code",
   "execution_count": null,
   "metadata": {},
   "outputs": [],
   "source": [
    "from sklearn.model_selection import train_test_split\n",
    "x_train, x_test, y_train, y_test = train_test_split( data, y, test_size=0.33, random_state=42,shuffle=True)"
   ]
  },
  {
   "cell_type": "code",
   "execution_count": null,
   "metadata": {},
   "outputs": [],
   "source": [
    "from sklearn.utils import all_estimators\n",
    "\n",
    "estimators = all_estimators(type_filter='regressor')\n",
    "all_regs = []\n",
    "for name, RegressorClass in estimators:\n",
    "    print('Appending', name)\n",
    "    try:\n",
    "        reg = RegressorClass()\n",
    "        all_regs.append(reg)\n",
    "    except Exception:\n",
    "        pass\n",
    "all_regs"
   ]
  },
  {
   "cell_type": "code",
   "execution_count": null,
   "metadata": {},
   "outputs": [],
   "source": [
    "data_np = np.array(data)\n",
    "data_np.shape"
   ]
  },
  {
   "cell_type": "code",
   "execution_count": null,
   "metadata": {},
   "outputs": [],
   "source": [
    "scores = {}\n",
    "from sklearn.model_selection import cross_val_score\n",
    "from sklearn.model_selection import KFold\n",
    "\n",
    "for regressor in all_regs:\n",
    "    print(\"trying...\",regressor)\n",
    "    try:\n",
    "        kf = KFold(n_splits=2)\n",
    "        scrs = []\n",
    "        for train_index, test_index in kf.split(data_np):\n",
    "            x_train, x_test = data_np[train_index], data_np[test_index]\n",
    "            y_train, y_test = y[train_index], y[test_index]\n",
    "            regressor.fit(x_train,y_train)\n",
    "            scr = cross_val_score(regressor,x_test,y_test,cv=2)\n",
    "            scrs.append(scr)\n",
    "        scores.update({regressor.__class__.__name__:np.mean(scrs)})\n",
    "    except ValueError:\n",
    "        print(regressor,\" not working...\")\n",
    "        scores.update({regressor.__class__.__name__:0})\n",
    "scores"
   ]
  },
  {
   "cell_type": "code",
   "execution_count": null,
   "metadata": {},
   "outputs": [],
   "source": [
    "from tqdm import tqdm \n",
    "scores = {}\n",
    "from sklearn.model_selection import cross_val_score\n",
    "from sklearn.model_selection import KFold\n",
    "\n",
    "for regressor in tqdm(all_regs):\n",
    "    print(\"trying...\",regressor)\n",
    "    try:\n",
    "        regressor.fit(x_train,y_train)\n",
    "        scr = cross_val_score(regressor,x_test,y_test,cv=4)\n",
    "        scores.update({regressor.__class__.__name__:np.mean(scr)})\n",
    "    except ValueError:\n",
    "        print(regressor,\" not working...\")\n",
    "        scores.update({regressor.__class__.__name__:0})\n",
    "scores"
   ]
  },
  {
   "cell_type": "code",
   "execution_count": null,
   "metadata": {},
   "outputs": [],
   "source": [
    "result = {k: v for k, v in sorted(scores.items(), key=lambda item: item[1], reverse=True)}\n",
    "result"
   ]
  },
  {
   "cell_type": "markdown",
   "metadata": {},
   "source": [
    "# finetuning"
   ]
  },
  {
   "cell_type": "code",
   "execution_count": null,
   "metadata": {},
   "outputs": [],
   "source": [
    "from sklearn.ensemble import RandomForestRegressor\n",
    "model = RandomForestRegressor()\n",
    "model.fit(x_train,y_train)\n",
    "scr = cross_val_score(model,x_test,y_test,cv=6)\n",
    "scr.mean()"
   ]
  },
  {
   "cell_type": "code",
   "execution_count": null,
   "metadata": {},
   "outputs": [],
   "source": [
    "import joblib\n",
    "# save model\n",
    "\n",
    "# save the model to disk\n",
    "filename = 'randomforest0.98.sav'\n",
    "#joblib.dump(model, filename)\n",
    "\n",
    "\n",
    "# load the model from disk\n",
    "loaded_model = joblib.load(filename)\n"
   ]
  },
  {
   "cell_type": "code",
   "execution_count": null,
   "metadata": {},
   "outputs": [],
   "source": [
    "cross_val_score(loaded_model,x_test,y_test,cv=4).mean()"
   ]
  },
  {
   "cell_type": "code",
   "execution_count": null,
   "metadata": {},
   "outputs": [],
   "source": [
    "fi = loaded_model.feature_importances_\n",
    "import matplotlib.pyplot as plt\n",
    "\n",
    "\n",
    "sorted_idx = loaded_model.feature_importances_.argsort()\n",
    "plt.barh(data.columns[sorted_idx][:20], loaded_model.feature_importances_[sorted_idx][:20])\n",
    "plt.xlabel(\"Random Forest Feature Importance\")"
   ]
  },
  {
   "cell_type": "code",
   "execution_count": null,
   "metadata": {},
   "outputs": [],
   "source": [
    "len(data.columns)"
   ]
  },
  {
   "cell_type": "code",
   "execution_count": null,
   "metadata": {},
   "outputs": [],
   "source": [
    "from sklearn.ensemble import RandomForestRegressor\n",
    "from tqdm import tqdm \n",
    "from sklearn.feature_selection import RFE\n",
    "from sklearn.model_selection import cross_val_score\n",
    "\n",
    "\n",
    "\n",
    "\n",
    "ftsnr = [80,100,120]\n",
    "scores = {}\n",
    "for nr in tqdm(ftsnr):\n",
    "    selector = RFE(loaded_model, n_features_to_select=nr, step=.5)\n",
    "    selector = selector.fit(x_train, y_train)\n",
    "    selector.support_\n",
    "\n",
    "    isel = np.where(selector.support_ == True)\n",
    "\n",
    "    xtmp = x_train.values[:,isel][:,0] # wtf\n",
    "    xtesttmp = x_test.values[:,isel][:,0]\n",
    "\n",
    "\n",
    "    mod = RandomForestRegressor()\n",
    "    mod.fit(xtmp,y_train)\n",
    "\n",
    "    scr = cross_val_score(mod,xtesttmp,y_test,cv=4).mean()\n",
    "    print(scr)\n",
    "    scores.update({nr:scr})\n",
    "print(scores)"
   ]
  },
  {
   "cell_type": "code",
   "execution_count": null,
   "metadata": {},
   "outputs": [],
   "source": [
    "winning = 100\n",
    "\n",
    "selector = RFE(loaded_model, n_features_to_select=winning, step=.5)\n",
    "selector = selector.fit(x_train, y_train)\n",
    "selector.support_\n",
    "\n",
    "isel = np.where(selector.support_ == True)\n",
    "\n",
    "x_train = x_train.values[:,isel][:,0] # wtf\n",
    "x_test = x_test.values[:,isel][:,0]"
   ]
  },
  {
   "cell_type": "code",
   "execution_count": null,
   "metadata": {},
   "outputs": [],
   "source": [
    "data.columns[isel]"
   ]
  },
  {
   "cell_type": "code",
   "execution_count": null,
   "metadata": {},
   "outputs": [],
   "source": [
    "mod = RandomForestRegressor()\n",
    "mod.fit(x_train,y_train)"
   ]
  },
  {
   "cell_type": "code",
   "execution_count": null,
   "metadata": {},
   "outputs": [],
   "source": [
    "\n",
    "import matplotlib.pyplot as plt\n",
    "from matplotlib.pyplot import figure\n",
    "figure(num=None, figsize=(20, 20), dpi=80, facecolor='w', edgecolor='k')\n",
    "\n",
    "sorted_idx = mod.feature_importances_.argsort()\n",
    "plt.barh(data.columns[sorted_idx][20:60], mod.feature_importances_[sorted_idx][20:60])\n",
    "plt.xlabel(\"Random Forest Feature Importance\")"
   ]
  },
  {
   "cell_type": "code",
   "execution_count": null,
   "metadata": {},
   "outputs": [],
   "source": [
    "# modell marke garantie country - 0.9711037797997695 cv 4"
   ]
  }
 ],
 "metadata": {
  "kernelspec": {
   "display_name": "Python 3",
   "language": "python",
   "name": "python3"
  },
  "language_info": {
   "codemirror_mode": {
    "name": "ipython",
    "version": 3
   },
   "file_extension": ".py",
   "mimetype": "text/x-python",
   "name": "python",
   "nbconvert_exporter": "python",
   "pygments_lexer": "ipython3",
   "version": "3.8.5"
  }
 },
 "nbformat": 4,
 "nbformat_minor": 4
}
